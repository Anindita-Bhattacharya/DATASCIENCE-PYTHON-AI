{
  "nbformat": 4,
  "nbformat_minor": 0,
  "metadata": {
    "colab": {
      "provenance": []
    },
    "kernelspec": {
      "name": "python3",
      "display_name": "Python 3"
    },
    "language_info": {
      "name": "python"
    }
  },
  "cells": [
    {
      "cell_type": "code",
      "execution_count": null,
      "metadata": {
        "colab": {
          "base_uri": "https://localhost:8080/"
        },
        "id": "P3vHDrvEd5MV",
        "outputId": "9c1c7306-7289-4f1f-b35f-c0f9b996d44b"
      },
      "outputs": [
        {
          "output_type": "stream",
          "name": "stdout",
          "text": [
            "Requirement already satisfied: scikit-learn in /usr/local/lib/python3.11/dist-packages (1.6.1)\n",
            "Requirement already satisfied: numpy>=1.19.5 in /usr/local/lib/python3.11/dist-packages (from scikit-learn) (2.0.2)\n",
            "Requirement already satisfied: scipy>=1.6.0 in /usr/local/lib/python3.11/dist-packages (from scikit-learn) (1.14.1)\n",
            "Requirement already satisfied: joblib>=1.2.0 in /usr/local/lib/python3.11/dist-packages (from scikit-learn) (1.4.2)\n",
            "Requirement already satisfied: threadpoolctl>=3.1.0 in /usr/local/lib/python3.11/dist-packages (from scikit-learn) (3.6.0)\n"
          ]
        }
      ],
      "source": [
        "!pip install scikit-learn\n",
        "import numpy as np\n",
        "import pandas as pd\n",
        "import matplotlib.pyplot as plt\n",
        "from sklearn.preprocessing import MinMaxScaler\n",
        "from tensorflow.keras.models import Sequential\n",
        "from tensorflow.keras.layers import LSTM,Dense"
      ]
    },
    {
      "cell_type": "code",
      "source": [
        "data=np.array([i for i in range(100)])  #[0,1,2,3,4,5..]\n",
        "data=data.reshape(-1,1)  #[[0],[1],[2]....]\n",
        "scaler=MinMaxScaler(feature_range=(0,1))\n",
        "data_scaled=scaler.fit_transform(data)"
      ],
      "metadata": {
        "id": "cQ1IVRv9eo4r"
      },
      "execution_count": null,
      "outputs": []
    },
    {
      "cell_type": "code",
      "source": [
        "def create_sequences(data,time_steps=5):\n",
        "  X,y=[],[]\n",
        "  for i in range(len(data)-time_steps):\n",
        "    X.append(data[i:i+time_steps])\n",
        "    y.append(data[i+time_steps])\n",
        "  return np.array(X),np.array(y)\n",
        "\n",
        "time_steps=5\n",
        "X,y=create_sequences(data_scaled,time_steps)\n",
        "X=X.reshape((X.shape[0],X.shape[1],1))\n",
        "\n",
        "split=int(len(X)*0.8)\n",
        "X_train,X_test=X[:split],X[split:]\n",
        "y_train,y_test=y[:split],y[split:]\n",
        "\n",
        "model=Sequential([LSTM(50,return_sequences=False,input_shape=(time_steps,1)),\n",
        "                  Dense(1)])\n",
        "model.compile(optimizer='adam',loss='mse')\n",
        "model.fit(X_train,y_train,epochs=20,batch_size=1,verbose=1)"
      ],
      "metadata": {
        "colab": {
          "base_uri": "https://localhost:8080/"
        },
        "id": "QZzQoop5flyB",
        "outputId": "2ed1491d-d535-43cb-ebab-3dab916bb3da"
      },
      "execution_count": null,
      "outputs": [
        {
          "output_type": "stream",
          "name": "stdout",
          "text": [
            "Epoch 1/20\n"
          ]
        },
        {
          "output_type": "stream",
          "name": "stderr",
          "text": [
            "/usr/local/lib/python3.11/dist-packages/keras/src/layers/rnn/rnn.py:200: UserWarning: Do not pass an `input_shape`/`input_dim` argument to a layer. When using Sequential models, prefer using an `Input(shape)` object as the first layer in the model instead.\n",
            "  super().__init__(**kwargs)\n"
          ]
        },
        {
          "output_type": "stream",
          "name": "stdout",
          "text": [
            "\u001b[1m396/396\u001b[0m \u001b[32m━━━━━━━━━━━━━━━━━━━━\u001b[0m\u001b[37m\u001b[0m \u001b[1m7s\u001b[0m 4ms/step - loss: 0.0271\n",
            "Epoch 2/20\n",
            "\u001b[1m396/396\u001b[0m \u001b[32m━━━━━━━━━━━━━━━━━━━━\u001b[0m\u001b[37m\u001b[0m \u001b[1m1s\u001b[0m 3ms/step - loss: 1.0320e-04\n",
            "Epoch 3/20\n",
            "\u001b[1m396/396\u001b[0m \u001b[32m━━━━━━━━━━━━━━━━━━━━\u001b[0m\u001b[37m\u001b[0m \u001b[1m1s\u001b[0m 3ms/step - loss: 2.3784e-05\n",
            "Epoch 4/20\n",
            "\u001b[1m396/396\u001b[0m \u001b[32m━━━━━━━━━━━━━━━━━━━━\u001b[0m\u001b[37m\u001b[0m \u001b[1m3s\u001b[0m 3ms/step - loss: 4.3553e-06\n",
            "Epoch 5/20\n",
            "\u001b[1m396/396\u001b[0m \u001b[32m━━━━━━━━━━━━━━━━━━━━\u001b[0m\u001b[37m\u001b[0m \u001b[1m3s\u001b[0m 4ms/step - loss: 1.1729e-06\n",
            "Epoch 6/20\n",
            "\u001b[1m396/396\u001b[0m \u001b[32m━━━━━━━━━━━━━━━━━━━━\u001b[0m\u001b[37m\u001b[0m \u001b[1m2s\u001b[0m 3ms/step - loss: 2.1593e-06\n",
            "Epoch 7/20\n",
            "\u001b[1m396/396\u001b[0m \u001b[32m━━━━━━━━━━━━━━━━━━━━\u001b[0m\u001b[37m\u001b[0m \u001b[1m3s\u001b[0m 4ms/step - loss: 6.0305e-06\n",
            "Epoch 8/20\n",
            "\u001b[1m396/396\u001b[0m \u001b[32m━━━━━━━━━━━━━━━━━━━━\u001b[0m\u001b[37m\u001b[0m \u001b[1m2s\u001b[0m 3ms/step - loss: 1.3844e-05\n",
            "Epoch 9/20\n",
            "\u001b[1m396/396\u001b[0m \u001b[32m━━━━━━━━━━━━━━━━━━━━\u001b[0m\u001b[37m\u001b[0m \u001b[1m1s\u001b[0m 3ms/step - loss: 5.6229e-06\n",
            "Epoch 10/20\n",
            "\u001b[1m396/396\u001b[0m \u001b[32m━━━━━━━━━━━━━━━━━━━━\u001b[0m\u001b[37m\u001b[0m \u001b[1m2s\u001b[0m 4ms/step - loss: 7.9589e-06\n",
            "Epoch 11/20\n",
            "\u001b[1m396/396\u001b[0m \u001b[32m━━━━━━━━━━━━━━━━━━━━\u001b[0m\u001b[37m\u001b[0m \u001b[1m3s\u001b[0m 5ms/step - loss: 1.2454e-05\n",
            "Epoch 12/20\n",
            "\u001b[1m396/396\u001b[0m \u001b[32m━━━━━━━━━━━━━━━━━━━━\u001b[0m\u001b[37m\u001b[0m \u001b[1m2s\u001b[0m 3ms/step - loss: 2.8647e-05\n",
            "Epoch 13/20\n",
            "\u001b[1m396/396\u001b[0m \u001b[32m━━━━━━━━━━━━━━━━━━━━\u001b[0m\u001b[37m\u001b[0m \u001b[1m1s\u001b[0m 3ms/step - loss: 7.3062e-05\n",
            "Epoch 14/20\n",
            "\u001b[1m396/396\u001b[0m \u001b[32m━━━━━━━━━━━━━━━━━━━━\u001b[0m\u001b[37m\u001b[0m \u001b[1m3s\u001b[0m 3ms/step - loss: 6.3427e-06\n",
            "Epoch 15/20\n",
            "\u001b[1m396/396\u001b[0m \u001b[32m━━━━━━━━━━━━━━━━━━━━\u001b[0m\u001b[37m\u001b[0m \u001b[1m1s\u001b[0m 4ms/step - loss: 6.8373e-06\n",
            "Epoch 16/20\n",
            "\u001b[1m396/396\u001b[0m \u001b[32m━━━━━━━━━━━━━━━━━━━━\u001b[0m\u001b[37m\u001b[0m \u001b[1m2s\u001b[0m 3ms/step - loss: 5.8113e-05\n",
            "Epoch 17/20\n",
            "\u001b[1m396/396\u001b[0m \u001b[32m━━━━━━━━━━━━━━━━━━━━\u001b[0m\u001b[37m\u001b[0m \u001b[1m3s\u001b[0m 5ms/step - loss: 1.2927e-05\n",
            "Epoch 18/20\n",
            "\u001b[1m396/396\u001b[0m \u001b[32m━━━━━━━━━━━━━━━━━━━━\u001b[0m\u001b[37m\u001b[0m \u001b[1m1s\u001b[0m 3ms/step - loss: 7.0539e-06\n",
            "Epoch 19/20\n",
            "\u001b[1m396/396\u001b[0m \u001b[32m━━━━━━━━━━━━━━━━━━━━\u001b[0m\u001b[37m\u001b[0m \u001b[1m1s\u001b[0m 3ms/step - loss: 2.8596e-06\n",
            "Epoch 20/20\n",
            "\u001b[1m396/396\u001b[0m \u001b[32m━━━━━━━━━━━━━━━━━━━━\u001b[0m\u001b[37m\u001b[0m \u001b[1m1s\u001b[0m 3ms/step - loss: 1.0423e-05\n"
          ]
        },
        {
          "output_type": "execute_result",
          "data": {
            "text/plain": [
              "<keras.src.callbacks.history.History at 0x7892e7f8eb10>"
            ]
          },
          "metadata": {},
          "execution_count": 39
        }
      ]
    },
    {
      "cell_type": "code",
      "source": [
        "y_pred=model.predict(X_test)"
      ],
      "metadata": {
        "colab": {
          "base_uri": "https://localhost:8080/"
        },
        "id": "M5e8XCceiNWo",
        "outputId": "6dd7452a-2b44-41c4-def6-48b72f73a07c"
      },
      "execution_count": null,
      "outputs": [
        {
          "output_type": "stream",
          "name": "stderr",
          "text": [
            "WARNING:tensorflow:6 out of the last 7 calls to <function TensorFlowTrainer.make_predict_function.<locals>.one_step_on_data_distributed at 0x7892e7940b80> triggered tf.function retracing. Tracing is expensive and the excessive number of tracings could be due to (1) creating @tf.function repeatedly in a loop, (2) passing tensors with different shapes, (3) passing Python objects instead of tensors. For (1), please define your @tf.function outside of the loop. For (2), @tf.function has reduce_retracing=True option that can avoid unnecessary retracing. For (3), please refer to https://www.tensorflow.org/guide/function#controlling_retracing and https://www.tensorflow.org/api_docs/python/tf/function for  more details.\n"
          ]
        },
        {
          "output_type": "stream",
          "name": "stdout",
          "text": [
            "\u001b[1m4/4\u001b[0m \u001b[32m━━━━━━━━━━━━━━━━━━━━\u001b[0m\u001b[37m\u001b[0m \u001b[1m0s\u001b[0m 69ms/step\n"
          ]
        }
      ]
    },
    {
      "cell_type": "code",
      "source": [
        "y_test.shape"
      ],
      "metadata": {
        "colab": {
          "base_uri": "https://localhost:8080/"
        },
        "id": "Vb-ZEXrRjezN",
        "outputId": "ab3a0fad-4371-411d-dd77-c9ecf89e0788"
      },
      "execution_count": null,
      "outputs": [
        {
          "output_type": "execute_result",
          "data": {
            "text/plain": [
              "(99, 1)"
            ]
          },
          "metadata": {},
          "execution_count": 41
        }
      ]
    },
    {
      "cell_type": "code",
      "source": [
        "plt.figure(figsize=(10,5))\n",
        "plt.plot(y_test,label='Actual')\n",
        "plt.plot(y_pred,label='Predicted')\n",
        "plt.show()\n",
        "\n"
      ],
      "metadata": {
        "colab": {
          "base_uri": "https://localhost:8080/",
          "height": 445
        },
        "id": "yP7GHYybjkP4",
        "outputId": "6eb85b31-d188-4966-81c6-72b98e8503e4"
      },
      "execution_count": null,
      "outputs": [
        {
          "output_type": "display_data",
          "data": {
            "text/plain": [
              "<Figure size 1000x500 with 1 Axes>"
            ],
            "image/png": "[encoded data removed]"
          },
          "metadata": {}
        }
      ]
    },
    {
      "cell_type": "code",
      "source": [
        "print(y_test)\n",
        "print(y_pred)"
      ],
      "metadata": {
        "colab": {
          "base_uri": "https://localhost:8080/"
        },
        "id": "RXiN26jYj7H7",
        "outputId": "ea038793-55cb-4ccc-998e-732528e44779"
      },
      "execution_count": null,
      "outputs": [
        {
          "output_type": "stream",
          "name": "stdout",
          "text": [
            "[[0.80360721]\n",
            " [0.80561122]\n",
            " [0.80761523]\n",
            " [0.80961924]\n",
            " [0.81162325]\n",
            " [0.81362725]\n",
            " [0.81563126]\n",
            " [0.81763527]\n",
            " [0.81963928]\n",
            " [0.82164329]\n",
            " [0.82364729]\n",
            " [0.8256513 ]\n",
            " [0.82765531]\n",
            " [0.82965932]\n",
            " [0.83166333]\n",
            " [0.83366733]\n",
            " [0.83567134]\n",
            " [0.83767535]\n",
            " [0.83967936]\n",
            " [0.84168337]\n",
            " [0.84368737]\n",
            " [0.84569138]\n",
            " [0.84769539]\n",
            " [0.8496994 ]\n",
            " [0.85170341]\n",
            " [0.85370741]\n",
            " [0.85571142]\n",
            " [0.85771543]\n",
            " [0.85971944]\n",
            " [0.86172345]\n",
            " [0.86372745]\n",
            " [0.86573146]\n",
            " [0.86773547]\n",
            " [0.86973948]\n",
            " [0.87174349]\n",
            " [0.87374749]\n",
            " [0.8757515 ]\n",
            " [0.87775551]\n",
            " [0.87975952]\n",
            " [0.88176353]\n",
            " [0.88376754]\n",
            " [0.88577154]\n",
            " [0.88777555]\n",
            " [0.88977956]\n",
            " [0.89178357]\n",
            " [0.89378758]\n",
            " [0.89579158]\n",
            " [0.89779559]\n",
            " [0.8997996 ]\n",
            " [0.90180361]\n",
            " [0.90380762]\n",
            " [0.90581162]\n",
            " [0.90781563]\n",
            " [0.90981964]\n",
            " [0.91182365]\n",
            " [0.91382766]\n",
            " [0.91583166]\n",
            " [0.91783567]\n",
            " [0.91983968]\n",
            " [0.92184369]\n",
            " [0.9238477 ]\n",
            " [0.9258517 ]\n",
            " [0.92785571]\n",
            " [0.92985972]\n",
            " [0.93186373]\n",
            " [0.93386774]\n",
            " [0.93587174]\n",
            " [0.93787575]\n",
            " [0.93987976]\n",
            " [0.94188377]\n",
            " [0.94388778]\n",
            " [0.94589178]\n",
            " [0.94789579]\n",
            " [0.9498998 ]\n",
            " [0.95190381]\n",
            " [0.95390782]\n",
            " [0.95591182]\n",
            " [0.95791583]\n",
            " [0.95991984]\n",
            " [0.96192385]\n",
            " [0.96392786]\n",
            " [0.96593186]\n",
            " [0.96793587]\n",
            " [0.96993988]\n",
            " [0.97194389]\n",
            " [0.9739479 ]\n",
            " [0.9759519 ]\n",
            " [0.97795591]\n",
            " [0.97995992]\n",
            " [0.98196393]\n",
            " [0.98396794]\n",
            " [0.98597194]\n",
            " [0.98797595]\n",
            " [0.98997996]\n",
            " [0.99198397]\n",
            " [0.99398798]\n",
            " [0.99599198]\n",
            " [0.99799599]\n",
            " [1.        ]]\n",
            "[[0.7912246 ]\n",
            " [0.7931643 ]\n",
            " [0.79510343]\n",
            " [0.79704183]\n",
            " [0.7989795 ]\n",
            " [0.8009165 ]\n",
            " [0.80285275]\n",
            " [0.80478823]\n",
            " [0.80672306]\n",
            " [0.80865717]\n",
            " [0.81059045]\n",
            " [0.81252307]\n",
            " [0.8144549 ]\n",
            " [0.81638616]\n",
            " [0.8183166 ]\n",
            " [0.8202461 ]\n",
            " [0.82217515]\n",
            " [0.82410336]\n",
            " [0.82603073]\n",
            " [0.8279574 ]\n",
            " [0.82988334]\n",
            " [0.8318085 ]\n",
            " [0.83373284]\n",
            " [0.8356566 ]\n",
            " [0.8375794 ]\n",
            " [0.8395015 ]\n",
            " [0.841423  ]\n",
            " [0.8433435 ]\n",
            " [0.84526324]\n",
            " [0.84718233]\n",
            " [0.84910053]\n",
            " [0.85101783]\n",
            " [0.85293454]\n",
            " [0.85485053]\n",
            " [0.85676557]\n",
            " [0.85867995]\n",
            " [0.8605935 ]\n",
            " [0.8625061 ]\n",
            " [0.864418  ]\n",
            " [0.866329  ]\n",
            " [0.8682393 ]\n",
            " [0.8701489 ]\n",
            " [0.8720576 ]\n",
            " [0.87396556]\n",
            " [0.87587255]\n",
            " [0.87777877]\n",
            " [0.87968415]\n",
            " [0.8815888 ]\n",
            " [0.8834925 ]\n",
            " [0.88539547]\n",
            " [0.8872976 ]\n",
            " [0.88919896]\n",
            " [0.8910994 ]\n",
            " [0.89299893]\n",
            " [0.8948977 ]\n",
            " [0.8967957 ]\n",
            " [0.8986927 ]\n",
            " [0.900589  ]\n",
            " [0.9024844 ]\n",
            " [0.90437883]\n",
            " [0.9062726 ]\n",
            " [0.90816545]\n",
            " [0.9100574 ]\n",
            " [0.91194856]\n",
            " [0.91383886]\n",
            " [0.9157283 ]\n",
            " [0.9176167 ]\n",
            " [0.91950446]\n",
            " [0.92139125]\n",
            " [0.92327714]\n",
            " [0.9251622 ]\n",
            " [0.9270464 ]\n",
            " [0.92892957]\n",
            " [0.930812  ]\n",
            " [0.9326936 ]\n",
            " [0.9345742 ]\n",
            " [0.9364539 ]\n",
            " [0.93833274]\n",
            " [0.9402107 ]\n",
            " [0.9420878 ]\n",
            " [0.943964  ]\n",
            " [0.94583917]\n",
            " [0.9477136 ]\n",
            " [0.949587  ]\n",
            " [0.9514596 ]\n",
            " [0.95333123]\n",
            " [0.9552019 ]\n",
            " [0.95707184]\n",
            " [0.95894074]\n",
            " [0.9608087 ]\n",
            " [0.96267587]\n",
            " [0.964542  ]\n",
            " [0.96640724]\n",
            " [0.96827155]\n",
            " [0.97013485]\n",
            " [0.9719973 ]\n",
            " [0.97385883]\n",
            " [0.97571933]\n",
            " [0.9775792 ]]\n"
          ]
        }
      ]
    },
    {
      "cell_type": "code",
      "source": [
        "test_input=np.array([95,96,97,98,99]).reshape(1,time_steps,1)\n",
        "test_input_scaled=scaler.transform(test_input.reshape(-1,1)).reshape(1,time_steps,1)\n",
        "predicted_value_scaled=model.predict(test_input_scaled)\n",
        "predicted_value=scaler.inverse_transform(predicted_value_scaled.reshape(-1,1))\n",
        "print(predicted_value[0][0])"
      ],
      "metadata": {
        "colab": {
          "base_uri": "https://localhost:8080/"
        },
        "id": "jSJHJBFpkqf7",
        "outputId": "8f54458f-8846-4845-9a6f-f89f431ef42c"
      },
      "execution_count": null,
      "outputs": [
        {
          "output_type": "stream",
          "name": "stdout",
          "text": [
            "\u001b[1m1/1\u001b[0m \u001b[32m━━━━━━━━━━━━━━━━━━━━\u001b[0m\u001b[37m\u001b[0m \u001b[1m0s\u001b[0m 55ms/step\n",
            "94.747284\n"
          ]
        }
      ]
    },
    {
      "cell_type": "code",
      "source": [],
      "metadata": {
        "id": "s3q5KMEnkPxN"
      },
      "execution_count": null,
      "outputs": []
    }
  ]
}